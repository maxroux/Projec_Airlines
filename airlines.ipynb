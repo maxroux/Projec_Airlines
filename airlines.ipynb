{
  "nbformat": 4,
  "nbformat_minor": 0,
  "metadata": {
    "colab": {
      "provenance": []
    },
    "kernelspec": {
      "name": "python3",
      "display_name": "Python 3"
    },
    "language_info": {
      "name": "python"
    }
  },
  "cells": [
    {
      "cell_type": "code",
      "execution_count": null,
      "metadata": {
        "colab": {
          "base_uri": "https://localhost:8080/"
        },
        "id": "w8W6AwBswyfm",
        "outputId": "1a781724-67c3-4e3f-fac7-ab32fa18a8a8"
      },
      "outputs": [
        {
          "output_type": "stream",
          "name": "stdout",
          "text": [
            "{'access_token': 'c7dj8nffq4t3g68j8s5qmxg7', 'token_type': 'bearer', 'expires_in': 129600}\n"
          ]
        }
      ],
      "source": [
        "import requests\n",
        "\n",
        "data = {\"client_id\": \"vss6aqb3gf2czn5syafmbrzp3\", \"client_secret\": \"VzZCePAxmQ\", \"grant_type\": \"client_credentials\"}\n",
        "# v1\n",
        "response_v1 = requests.post(\"https://api.lufthansa.com/v1/oauth/token\", data=data)\n",
        "data_response_v1 = response_v1.json()\n",
        "print(data_response_v1)"
      ]
    },
    {
      "cell_type": "code",
      "source": [
        "#access_token = data_response[\"access_token\"]\n",
        "headers = {\"Authorization\": f\"Bearer {access_token}\", \"accept\": \"application/json\"}"
      ],
      "metadata": {
        "id": "_jG88-r5xriP"
      },
      "execution_count": null,
      "outputs": []
    },
    {
      "cell_type": "code",
      "source": [
        "import json\n",
        "\n",
        "#with open(\"text.json\", \"w\") as f:\n",
        "#  json.dump(country, f, indent=4)"
      ],
      "metadata": {
        "id": "9iwpGjvPz01P"
      },
      "execution_count": null,
      "outputs": []
    },
    {
      "cell_type": "markdown",
      "source": [
        "## Flight Schedules"
      ],
      "metadata": {
        "id": "aE0gY16KYu80"
      }
    },
    {
      "cell_type": "code",
      "source": [
        "response_flight_schedules = requests.get(\"https://api.lufthansa.com/v1/flight-schedules/flightschedules/passenger?airlines=LH&startDate=01JUL24&endDate=01JUL24&daysOfOperation=1234567&timeMode=UTC&origin=CDG&destination=FRA\", headers=headers)\n",
        "print(response_flight_schedules.json())\n"
      ],
      "metadata": {
        "colab": {
          "base_uri": "https://localhost:8080/"
        },
        "id": "-5-_u9vZXATT",
        "outputId": "9f5355a7-098a-465c-d7d9-52a367126532"
      },
      "execution_count": null,
      "outputs": [
        {
          "output_type": "stream",
          "name": "stdout",
          "text": [
            "[{'airline': 'LH', 'flightNumber': 1027, 'suffix': '', 'periodOfOperationUTC': {'startDate': '01JUL24', 'endDate': '01JUL24', 'daysOfOperation': '1      '}, 'periodOfOperationLT': {'startDate': '01JUL24', 'endDate': '01JUL24', 'daysOfOperation': '1      '}, 'legs': [{'sequenceNumber': 1, 'origin': 'CDG', 'destination': 'FRA', 'serviceType': 'J', 'aircraftOwner': 'LH', 'aircraftType': '32A', 'aircraftConfigurationVersion': 'C168', 'registration': '', 'op': True, 'aircraftDepartureTimeUTC': 475, 'aircraftDepartureTimeDateDiffUTC': 0, 'aircraftDepartureTimeLT': 595, 'aircraftDepartureTimeDateDiffLT': 0, 'aircraftDepartureTimeVariation': 120, 'aircraftArrivalTimeUTC': 550, 'aircraftArrivalTimeDateDiffUTC': 0, 'aircraftArrivalTimeLT': 670, 'aircraftArrivalTimeDateDiffLT': 0, 'aircraftArrivalTimeVariation': 120}], 'dataElements': [{'startLegSequenceNumber': 1, 'endLegSequenceNumber': 1, 'id': 10, 'value': 'NH5872/UA9356'}, {'startLegSequenceNumber': 1, 'endLegSequenceNumber': 1, 'id': 98, 'value': '1'}, {'startLegSequenceNumber': 1, 'endLegSequenceNumber': 1, 'id': 99, 'value': '1'}, {'startLegSequenceNumber': 1, 'endLegSequenceNumber': 1, 'id': 106, 'value': 'JCDZPYBMUHQVWSTLK'}, {'startLegSequenceNumber': 1, 'endLegSequenceNumber': 1, 'id': 109, 'value': 'JRM/CRM/DRM/ZRM/PRM/YR/BR/MR/UR/HR/QR/VR/WR/SR/TR/LR/KR'}, {'startLegSequenceNumber': 1, 'endLegSequenceNumber': 1, 'id': 505, 'value': 'ET'}]}, {'airline': 'LH', 'flightNumber': 1029, 'suffix': '', 'periodOfOperationUTC': {'startDate': '01JUL24', 'endDate': '01JUL24', 'daysOfOperation': '1      '}, 'periodOfOperationLT': {'startDate': '01JUL24', 'endDate': '01JUL24', 'daysOfOperation': '1      '}, 'legs': [{'sequenceNumber': 1, 'origin': 'CDG', 'destination': 'FRA', 'serviceType': 'J', 'aircraftOwner': 'LH', 'aircraftType': '319', 'aircraftConfigurationVersion': 'C138', 'registration': '', 'op': True, 'aircraftDepartureTimeUTC': 515, 'aircraftDepartureTimeDateDiffUTC': 0, 'aircraftDepartureTimeLT': 635, 'aircraftDepartureTimeDateDiffLT': 0, 'aircraftDepartureTimeVariation': 120, 'aircraftArrivalTimeUTC': 590, 'aircraftArrivalTimeDateDiffUTC': 0, 'aircraftArrivalTimeLT': 710, 'aircraftArrivalTimeDateDiffLT': 0, 'aircraftArrivalTimeVariation': 120}], 'dataElements': [{'startLegSequenceNumber': 1, 'endLegSequenceNumber': 1, 'id': 10, 'value': 'UA9069'}, {'startLegSequenceNumber': 1, 'endLegSequenceNumber': 1, 'id': 98, 'value': '1'}, {'startLegSequenceNumber': 1, 'endLegSequenceNumber': 1, 'id': 99, 'value': '1'}, {'startLegSequenceNumber': 1, 'endLegSequenceNumber': 1, 'id': 106, 'value': 'JCDZPYBMUHQVWSTLK'}, {'startLegSequenceNumber': 1, 'endLegSequenceNumber': 1, 'id': 109, 'value': 'JRM/CRM/DRM/ZRM/PRM/YR/BR/MR/UR/HR/QR/VR/WR/SR/TR/LR/KR'}, {'startLegSequenceNumber': 1, 'endLegSequenceNumber': 1, 'id': 505, 'value': 'ET'}]}, {'airline': 'LH', 'flightNumber': 1031, 'suffix': '', 'periodOfOperationUTC': {'startDate': '01JUL24', 'endDate': '01JUL24', 'daysOfOperation': '1      '}, 'periodOfOperationLT': {'startDate': '01JUL24', 'endDate': '01JUL24', 'daysOfOperation': '1      '}, 'legs': [{'sequenceNumber': 1, 'origin': 'CDG', 'destination': 'FRA', 'serviceType': 'J', 'aircraftOwner': 'LH', 'aircraftType': '320', 'aircraftConfigurationVersion': 'C168', 'registration': '', 'op': True, 'aircraftDepartureTimeUTC': 570, 'aircraftDepartureTimeDateDiffUTC': 0, 'aircraftDepartureTimeLT': 690, 'aircraftDepartureTimeDateDiffLT': 0, 'aircraftDepartureTimeVariation': 120, 'aircraftArrivalTimeUTC': 645, 'aircraftArrivalTimeDateDiffUTC': 0, 'aircraftArrivalTimeLT': 765, 'aircraftArrivalTimeDateDiffLT': 0, 'aircraftArrivalTimeVariation': 120}], 'dataElements': [{'startLegSequenceNumber': 1, 'endLegSequenceNumber': 1, 'id': 10, 'value': 'NH6019/UA9073'}, {'startLegSequenceNumber': 1, 'endLegSequenceNumber': 1, 'id': 98, 'value': '1'}, {'startLegSequenceNumber': 1, 'endLegSequenceNumber': 1, 'id': 99, 'value': '1'}, {'startLegSequenceNumber': 1, 'endLegSequenceNumber': 1, 'id': 106, 'value': 'JCDZPYBMUHQVWSTLK'}, {'startLegSequenceNumber': 1, 'endLegSequenceNumber': 1, 'id': 109, 'value': 'JRM/CRM/DRM/ZRM/PRM/YR/BR/MR/UR/HR/QR/VR/WR/SR/TR/LR/KR'}, {'startLegSequenceNumber': 1, 'endLegSequenceNumber': 1, 'id': 505, 'value': 'ET'}]}, {'airline': 'LH', 'flightNumber': 1041, 'suffix': '', 'periodOfOperationUTC': {'startDate': '01JUL24', 'endDate': '01JUL24', 'daysOfOperation': '1      '}, 'periodOfOperationLT': {'startDate': '01JUL24', 'endDate': '01JUL24', 'daysOfOperation': '1      '}, 'legs': [{'sequenceNumber': 1, 'origin': 'CDG', 'destination': 'FRA', 'serviceType': 'J', 'aircraftOwner': 'LH', 'aircraftType': '321', 'aircraftConfigurationVersion': 'C200', 'registration': '', 'op': True, 'aircraftDepartureTimeUTC': 995, 'aircraftDepartureTimeDateDiffUTC': 0, 'aircraftDepartureTimeLT': 1115, 'aircraftDepartureTimeDateDiffLT': 0, 'aircraftDepartureTimeVariation': 120, 'aircraftArrivalTimeUTC': 1070, 'aircraftArrivalTimeDateDiffUTC': 0, 'aircraftArrivalTimeLT': 1190, 'aircraftArrivalTimeDateDiffLT': 0, 'aircraftArrivalTimeVariation': 120}], 'dataElements': [{'startLegSequenceNumber': 1, 'endLegSequenceNumber': 1, 'id': 98, 'value': '1'}, {'startLegSequenceNumber': 1, 'endLegSequenceNumber': 1, 'id': 99, 'value': '1'}, {'startLegSequenceNumber': 1, 'endLegSequenceNumber': 1, 'id': 106, 'value': 'JCDZPYBMUHQVWSTLK'}, {'startLegSequenceNumber': 1, 'endLegSequenceNumber': 1, 'id': 109, 'value': 'JRM/CRM/DRM/ZRM/PRM/YR/BR/MR/UR/HR/QR/VR/WR/SR/TR/LR/KR'}, {'startLegSequenceNumber': 1, 'endLegSequenceNumber': 1, 'id': 505, 'value': 'ET'}]}, {'airline': 'LH', 'flightNumber': 1047, 'suffix': '', 'periodOfOperationUTC': {'startDate': '01JUL24', 'endDate': '01JUL24', 'daysOfOperation': '1      '}, 'periodOfOperationLT': {'startDate': '01JUL24', 'endDate': '01JUL24', 'daysOfOperation': '1      '}, 'legs': [{'sequenceNumber': 1, 'origin': 'CDG', 'destination': 'FRA', 'serviceType': 'J', 'aircraftOwner': 'LH', 'aircraftType': '319', 'aircraftConfigurationVersion': 'C138', 'registration': '', 'op': True, 'aircraftDepartureTimeUTC': 1065, 'aircraftDepartureTimeDateDiffUTC': 0, 'aircraftDepartureTimeLT': 1185, 'aircraftDepartureTimeDateDiffLT': 0, 'aircraftDepartureTimeVariation': 120, 'aircraftArrivalTimeUTC': 1140, 'aircraftArrivalTimeDateDiffUTC': 0, 'aircraftArrivalTimeLT': 1260, 'aircraftArrivalTimeDateDiffLT': 0, 'aircraftArrivalTimeVariation': 120}], 'dataElements': [{'startLegSequenceNumber': 1, 'endLegSequenceNumber': 1, 'id': 10, 'value': 'NH6016'}, {'startLegSequenceNumber': 1, 'endLegSequenceNumber': 1, 'id': 98, 'value': '1'}, {'startLegSequenceNumber': 1, 'endLegSequenceNumber': 1, 'id': 99, 'value': '1'}, {'startLegSequenceNumber': 1, 'endLegSequenceNumber': 1, 'id': 106, 'value': 'JCDZPYBMUHQVWSTLK'}, {'startLegSequenceNumber': 1, 'endLegSequenceNumber': 1, 'id': 109, 'value': 'JRM/CRM/DRM/ZRM/PRM/YR/BR/MR/UR/HR/QR/VR/WR/SR/TR/LR/KR'}, {'startLegSequenceNumber': 1, 'endLegSequenceNumber': 1, 'id': 505, 'value': 'ET'}]}, {'airline': 'LH', 'flightNumber': 1051, 'suffix': '', 'periodOfOperationUTC': {'startDate': '01JUL24', 'endDate': '01JUL24', 'daysOfOperation': '1      '}, 'periodOfOperationLT': {'startDate': '01JUL24', 'endDate': '01JUL24', 'daysOfOperation': '1      '}, 'legs': [{'sequenceNumber': 1, 'origin': 'CDG', 'destination': 'FRA', 'serviceType': 'J', 'aircraftOwner': 'LH', 'aircraftType': '321', 'aircraftConfigurationVersion': 'C200', 'registration': '', 'op': True, 'aircraftDepartureTimeUTC': 325, 'aircraftDepartureTimeDateDiffUTC': 0, 'aircraftDepartureTimeLT': 445, 'aircraftDepartureTimeDateDiffLT': 0, 'aircraftDepartureTimeVariation': 120, 'aircraftArrivalTimeUTC': 400, 'aircraftArrivalTimeDateDiffUTC': 0, 'aircraftArrivalTimeLT': 520, 'aircraftArrivalTimeDateDiffLT': 0, 'aircraftArrivalTimeVariation': 120}], 'dataElements': [{'startLegSequenceNumber': 1, 'endLegSequenceNumber': 1, 'id': 10, 'value': 'A31439/UA9516'}, {'startLegSequenceNumber': 1, 'endLegSequenceNumber': 1, 'id': 98, 'value': '1'}, {'startLegSequenceNumber': 1, 'endLegSequenceNumber': 1, 'id': 99, 'value': '1'}, {'startLegSequenceNumber': 1, 'endLegSequenceNumber': 1, 'id': 106, 'value': 'JCDZPYBMUHQVWSTLK'}, {'startLegSequenceNumber': 1, 'endLegSequenceNumber': 1, 'id': 109, 'value': 'JRM/CRM/DRM/ZRM/PRM/YR/BR/MR/UR/HR/QR/VR/WR/SR/TR/LR/KR'}, {'startLegSequenceNumber': 1, 'endLegSequenceNumber': 1, 'id': 505, 'value': 'ET'}]}, {'airline': 'LH', 'flightNumber': 1053, 'suffix': '', 'periodOfOperationUTC': {'startDate': '01JUL24', 'endDate': '01JUL24', 'daysOfOperation': '1      '}, 'periodOfOperationLT': {'startDate': '01JUL24', 'endDate': '01JUL24', 'daysOfOperation': '1      '}, 'legs': [{'sequenceNumber': 1, 'origin': 'CDG', 'destination': 'FRA', 'serviceType': 'J', 'aircraftOwner': 'LH', 'aircraftType': '320', 'aircraftConfigurationVersion': 'C168', 'registration': '', 'op': True, 'aircraftDepartureTimeUTC': 240, 'aircraftDepartureTimeDateDiffUTC': 0, 'aircraftDepartureTimeLT': 360, 'aircraftDepartureTimeDateDiffLT': 0, 'aircraftDepartureTimeVariation': 120, 'aircraftArrivalTimeUTC': 315, 'aircraftArrivalTimeDateDiffUTC': 0, 'aircraftArrivalTimeLT': 435, 'aircraftArrivalTimeDateDiffLT': 0, 'aircraftArrivalTimeVariation': 120}], 'dataElements': [{'startLegSequenceNumber': 1, 'endLegSequenceNumber': 1, 'id': 10, 'value': 'UA9071'}, {'startLegSequenceNumber': 1, 'endLegSequenceNumber': 1, 'id': 98, 'value': '1'}, {'startLegSequenceNumber': 1, 'endLegSequenceNumber': 1, 'id': 99, 'value': '1'}, {'startLegSequenceNumber': 1, 'endLegSequenceNumber': 1, 'id': 106, 'value': 'JCDZPYBMUHQVWSTLK'}, {'startLegSequenceNumber': 1, 'endLegSequenceNumber': 1, 'id': 109, 'value': 'JRM/CRM/DRM/ZRM/PRM/YR/BR/MR/UR/HR/QR/VR/WR/SR/TR/LR/KR'}, {'startLegSequenceNumber': 1, 'endLegSequenceNumber': 1, 'id': 505, 'value': 'ET'}]}]\n"
          ]
        }
      ]
    },
    {
      "cell_type": "markdown",
      "source": [
        "## Flight Status\n"
      ],
      "metadata": {
        "id": "GvQWmobKfuRz"
      }
    },
    {
      "cell_type": "code",
      "source": [
        "response_flight_status = requests.get(\"https://api.lufthansa.com/v1/operations/flightstatus/LH1050/2024-06-03\", headers=headers)\n",
        "print(response_flight_status.json())"
      ],
      "metadata": {
        "colab": {
          "base_uri": "https://localhost:8080/"
        },
        "id": "qfnmbSkRZEU5",
        "outputId": "51ce7988-c5cc-4d71-d369-9298c6c5ef58"
      },
      "execution_count": null,
      "outputs": [
        {
          "output_type": "stream",
          "name": "stdout",
          "text": [
            "{'FlightStatusResource': {'Flights': {'Flight': [{'Departure': {'AirportCode': 'FRA', 'ScheduledTimeLocal': {'DateTime': '2024-06-03T20:10'}, 'ScheduledTimeUTC': {'DateTime': '2024-06-03T18:10Z'}, 'ActualTimeLocal': {'DateTime': '2024-06-03T20:11'}, 'ActualTimeUTC': {'DateTime': '2024-06-03T18:11Z'}, 'TimeStatus': {'Code': 'OT', 'Definition': 'Flight On Time'}, 'Terminal': {'Name': '1', 'Gate': 'A52'}}, 'Arrival': {'AirportCode': 'CDG', 'ScheduledTimeLocal': {'DateTime': '2024-06-03T21:25'}, 'ScheduledTimeUTC': {'DateTime': '2024-06-03T19:25Z'}, 'ActualTimeLocal': {'DateTime': '2024-06-03T21:18'}, 'ActualTimeUTC': {'DateTime': '2024-06-03T19:18Z'}, 'TimeStatus': {'Code': 'FE', 'Definition': 'Flight Early'}, 'Terminal': {'Name': '1', 'Gate': '065'}}, 'MarketingCarrier': {'AirlineID': 'LH', 'FlightNumber': '1050'}, 'OperatingCarrier': {'AirlineID': 'LH', 'FlightNumber': '1050'}, 'Equipment': {'AircraftCode': '32A', 'AircraftRegistration': 'DAIZT'}, 'FlightStatus': {'Code': 'LD', 'Definition': 'Flight Landed'}, 'ServiceType': 'Passenger'}]}, 'Meta': {'@Version': '1.0.0', 'Link': [{'@Href': 'https://api.lufthansa.com/v1/operations/flightstatus/LH1050/2024-06-03', '@Rel': 'self'}, {'@Href': 'https://api.lufthansa.com/v1/mds-references/airports/{airportCode}', '@Rel': 'related'}]}}}\n"
          ]
        }
      ]
    },
    {
      "cell_type": "markdown",
      "source": [
        "## Reference Data"
      ],
      "metadata": {
        "id": "diXWY47KhNp8"
      }
    },
    {
      "cell_type": "code",
      "source": [
        "response_ref_data = requests.get(\"https://api.lufthansa.com/v1/mds-references/airlines\", headers=headers)\n",
        "print(response_ref_data.json())"
      ],
      "metadata": {
        "colab": {
          "base_uri": "https://localhost:8080/"
        },
        "id": "_-ZP2ywSZHOv",
        "outputId": "3e7b36f2-c824-4c5e-89b9-d59d2122e14a"
      },
      "execution_count": null,
      "outputs": [
        {
          "output_type": "stream",
          "name": "stdout",
          "text": [
            "{'AirlineResource': {'Airlines': {'Airline': [{'AirlineID': '0A', 'AirlineID_ICAO': 'GNT', 'Names': {'Name': {'@LanguageCode': 'EN', '$': 'Amber Air'}}}, {'AirlineID': '0B', 'AirlineID_ICAO': 'BMS', 'Names': {'Name': {'@LanguageCode': 'EN', '$': 'Blue Air'}}}, {'AirlineID': '0D', 'AirlineID_ICAO': 'DWT', 'Names': {'Name': {'@LanguageCode': 'EN', '$': 'Darwin Airline Sa'}}}, {'AirlineID': '0J', 'AirlineID_ICAO': 'PJZ', 'Names': {'Name': {'@LanguageCode': 'EN', '$': 'Premium Jet Ag'}}}, {'AirlineID': '0K', 'AirlineID_ICAO': 'KRT', 'Names': {'Name': {'@LanguageCode': 'EN', '$': 'Aircompany Kokshetau'}}}, {'AirlineID': '0P', 'AirlineID_ICAO': 'PPC', 'Names': {'Name': {'@LanguageCode': 'EN', '$': 'Palau Asia Pacific Air Inc.'}}}, {'AirlineID': '0S', 'AirlineID_ICAO': 'SEJ', 'Names': {'Name': {'@LanguageCode': 'EN', '$': 'Spicejet'}}}, {'AirlineID': '0V', 'AirlineID_ICAO': 'VFC', 'Names': {'Name': {'@LanguageCode': 'EN', '$': 'Vasco'}}}, {'AirlineID': '0W', 'AirlineID_ICAO': 'WCR', 'Names': {'Name': {'@LanguageCode': 'EN', '$': 'West Caribbean Costa Rica S.A.'}}}, {'AirlineID': '1A', 'AirlineID_ICAO': 'AGT', 'Names': {'Name': {'@LanguageCode': 'EN', '$': 'Amadeus Global Travel Distribution S.A.'}}}, {'AirlineID': '1I', 'AirlineID_ICAO': 'EJA', 'Names': {'Name': {'@LanguageCode': 'EN', '$': 'Netjets'}}}, {'AirlineID': '1L', 'AirlineID_ICAO': 'OSY', 'Names': {'Name': {'@LanguageCode': 'EN', '$': 'Open Skies Consultative Commission (Oscc)'}}}, {'AirlineID': '1P', 'AirlineID_ICAO': 'WSP', 'Names': {'Name': {'@LanguageCode': 'EN', '$': 'Worldspan (Atlanta_ Ga)'}}}, {'AirlineID': '1S', 'AirlineID_ICAO': 'SBG', 'Names': {'Name': {'@LanguageCode': 'EN', '$': 'Sabre_ Inc. (Southlake_ Tx)'}}}, {'AirlineID': '1X', 'Names': {'Name': {'@LanguageCode': 'EN', '$': 'Branson Airexpress'}}}, {'AirlineID': '2A', 'Names': {'Name': {'@LanguageCode': 'EN', '$': 'Deutsche Bahn AG'}}}, {'AirlineID': '2B', 'AirlineID_ICAO': 'AWT', 'Names': {'Name': {'@LanguageCode': 'EN', '$': 'Albawings'}}}, {'AirlineID': '2C', 'Names': {'Name': {'@LanguageCode': 'EN', '$': 'Sncf'}}}, {'AirlineID': '2D', 'AirlineID_ICAO': 'DYA', 'Names': {'Name': {'@LanguageCode': 'EN', '$': 'Dynamic International Airways'}}}, {'AirlineID': '2E', 'Names': {'Name': {'@LanguageCode': 'EN', '$': 'Smokey Bay Air'}}}]}, 'Meta': {'@Version': '1.0.0', 'Link': [{'@Href': 'https://api.lufthansa.com/v1/mds-references/airlines', '@Rel': 'self'}, {'@Href': 'https://api.lufthansa.com/v1/mds-references/airlines?offset=20&limit=20', '@Rel': 'next'}, {'@Href': 'https://api.lufthansa.com/v1/mds-references/airlines?offset=1120&limit=20', '@Rel': 'last'}, {'@Href': 'https://api.lufthansa.com/v1/mds-references/airlines/{airlineCode}', '@Rel': 'related'}], 'TotalCount': 1132}}}\n"
          ]
        }
      ]
    },
    {
      "cell_type": "markdown",
      "source": [
        "## Customer Flight Information"
      ],
      "metadata": {
        "id": "nxhxEXFUhkAV"
      }
    },
    {
      "cell_type": "code",
      "source": [
        "response_flight_info = requests.get(\"https://api.lufthansa.com/v1/operations/customerflightinformation/LH1050/2024-06-03\", headers=headers)\n",
        "print(response_flight_info.json())"
      ],
      "metadata": {
        "colab": {
          "base_uri": "https://localhost:8080/"
        },
        "id": "1H0uSbSFhs1d",
        "outputId": "a3870ee2-31df-4cf7-9af0-98da9ac40ec5"
      },
      "execution_count": null,
      "outputs": [
        {
          "output_type": "stream",
          "name": "stdout",
          "text": [
            "{'FlightInformation': {'Flights': {'Flight': {'Departure': {'AirportCode': 'FRA', 'Scheduled': {'Date': '2024-06-03', 'Time': '20:10'}, 'Actual': {'Date': '2024-06-03', 'Time': '20:11'}, 'Terminal': {'Name': '1', 'Gate': 'A52'}, 'Status': {'Code': 'DP', 'Description': 'Flight Departed'}}, 'Arrival': {'AirportCode': 'CDG', 'Scheduled': {'Date': '2024-06-03', 'Time': '21:25'}, 'Actual': {'Date': '2024-06-03', 'Time': '21:18'}, 'Terminal': {'Name': '1', 'Gate': '065'}, 'Status': {'Code': 'LD', 'Description': 'Flight Landed'}}, 'MarketingCarrierList': {'MarketingCarrier': [{'AirlineID': 'A3', 'FlightNumber': '1452'}, {'AirlineID': 'NH', 'FlightNumber': '6018'}]}, 'OperatingCarrier': {'AirlineID': 'LH', 'FlightNumber': '1050'}, 'Equipment': {'AircraftCode': '32A'}, 'Status': {'Code': 'LD', 'Description': 'Flight Landed'}}}, 'Meta': {'@Version': '1.0.0', 'Link': [{'@Href': 'https://api.lufthansa.com/v1/operations/customerflightinformation/LH1050/2024-06-03', '@Rel': 'self'}, {'@Href': 'https://api.lufthansa.com/v1/mds-references/airports/{airportCode}', '@Rel': 'related'}]}}}\n"
          ]
        }
      ]
    },
    {
      "cell_type": "code",
      "source": [],
      "metadata": {
        "id": "iUrS5b5UhhLz"
      },
      "execution_count": null,
      "outputs": []
    }
  ]
}