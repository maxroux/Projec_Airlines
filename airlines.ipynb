{
 "cells": [
  {
   "cell_type": "code",
   "execution_count": 28,
   "metadata": {
    "colab": {
     "base_uri": "https://localhost:8080/",
     "height": 428
    },
    "id": "MVfP07ZZSQhx",
    "outputId": "fd998031-86fe-4883-e77d-c5e7210b0280"
   },
   "outputs": [],
   "source": [
    "import requests\n",
    "import json\n",
    "from datetime import datetime\n",
    "import sys\n",
    "import csv\n",
    "\n",
    "# Importer la fonction get_access_token du module auth\n",
    "from auth import get_access_token\n",
    "\n",
    "# Constantes et fichiers de configuration\n",
    "CLIENT_ID = 'vss6aqb3gf2czn5syafmbrzp3'\n",
    "CLIENT_SECRET = 'VzZCePAxmQ'"
   ]
  },
  {
   "cell_type": "code",
   "execution_count": 29,
   "metadata": {
    "colab": {
     "base_uri": "https://localhost:8080/",
     "height": 428
    },
    "id": "MVfP07ZZSQhx",
    "outputId": "fd998031-86fe-4883-e77d-c5e7210b0280"
   },
   "outputs": [],
   "source": [
    "# Constantes et fichiers de configuration\n",
    "API_URL_TEMPLATE = \"https://api.lufthansa.com/v1/operations/flightstatus/departures/{airportCode}/{fromDateTime}\"\n",
    "AIRPORT_CODES_FILE = \"data/json/airline_codes.json\"\n",
    "JSON_RESULTS_FILE = \"data/json/departure_airports.json\"\n",
    "CSV_RESULTS_FILE = \"data/csv/departure_airports.csv\"\n",
    "JSON_ERRORS_FILE = \"data/json/api_errors.json\"\n",
    "CSV_ERRORS_FILE = \"data/csv/api_errors.csv\"\n",
    "\n",
    "def load_airport_codes(file_path):\n",
    "    \"\"\"Charge les codes d'aéroports depuis un fichier JSON.\"\"\"\n",
    "    with open(file_path, \"r\") as json_file:\n",
    "        data = json.load(json_file)\n",
    "    return data.get('airport_codes', [])\n",
    "\n",
    "def load_previous_results(file_path):\n",
    "    \"\"\"Charge les résultats précédents depuis un fichier JSON, ou retourne une liste vide si le fichier n'existe pas.\"\"\"\n",
    "    try:\n",
    "        with open(file_path, \"r\") as json_file:\n",
    "            return json.load(json_file)\n",
    "    except FileNotFoundError:\n",
    "        return []\n",
    "\n",
    "def fetch_flight_status(airport_code, from_datetime, headers):\n",
    "    \"\"\"Appelle l'API pour obtenir le statut des vols d'un aéroport donné.\"\"\"\n",
    "    url = API_URL_TEMPLATE.format(airportCode=airport_code, fromDateTime=from_datetime)\n",
    "    try:\n",
    "        response = requests.get(url, headers=headers)\n",
    "        response.raise_for_status()\n",
    "        return response.json()\n",
    "    except requests.exceptions.HTTPError as http_err:\n",
    "        print(f\"HTTP error occurred for {airport_code}: {http_err}\")\n",
    "        return {\"error\": str(http_err), \"status_code\": response.status_code, \"reason\": response.reason}\n",
    "    except requests.exceptions.RequestException as req_err:\n",
    "        print(f\"Request error occurred for {airport_code}: {req_err}\")\n",
    "        return {\"error\": str(req_err)}"
   ]
  },
  {
   "cell_type": "code",
   "execution_count": 30,
   "metadata": {},
   "outputs": [],
   "source": [
    "def load_existing_json(file_path):\n",
    "    \"\"\"Loads existing JSON data from file if available.\"\"\"\n",
    "    try:\n",
    "        with open(file_path, \"r\", encoding=\"utf-8\") as f:\n",
    "            return json.load(f)\n",
    "    except (IOError, json.JSONDecodeError):\n",
    "        return []\n",
    "\n",
    "def save_json_to_file(data, file_path, data_type):\n",
    "    \"\"\"Appends data to a JSON file.\"\"\"\n",
    "    existing_data = load_existing_json(file_path)\n",
    "    combined_data = existing_data + data\n",
    "    try:\n",
    "        with open(file_path, \"w\", encoding=\"utf-8\") as f:\n",
    "            json.dump(combined_data, f, ensure_ascii=False, indent=4)\n",
    "        print(f\"{data_type} ont été enregistrées dans {file_path}\")\n",
    "    except IOError as e:\n",
    "        print(f\"Erreur lors de l'écriture du fichier {file_path}: {e}\")\n",
    "\n",
    "def save_to_csv(data, file_path, data_type):\n",
    "    \"\"\"Appends data to a CSV file.\"\"\"\n",
    "    keys = data[0].keys()\n",
    "    try:\n",
    "        with open(file_path, \"a\", newline='', encoding=\"utf-8\") as output_file:\n",
    "            dict_writer = csv.DictWriter(output_file, fieldnames=keys)\n",
    "            if output_file.tell() == 0:\n",
    "                dict_writer.writeheader()\n",
    "            dict_writer.writerows(data)\n",
    "        print(f\"{data_type} ont été mises à jour dans {file_path}\")\n",
    "    except IOError as e:\n",
    "        print(f\"Erreur lors de l'écriture du fichier {file_path}: {e}\")"
   ]
  },
  {
   "cell_type": "code",
   "execution_count": 32,
   "metadata": {
    "id": "mlZ0frKtUBTl"
   },
   "outputs": [
    {
     "name": "stdout",
     "output_type": "stream",
     "text": [
      "Access Token: fy2jv5p3nderbfwqdcfjwch6\n",
      "Fetching aircraft data...\n",
      "HTTP error occurred: 404 Client Error: Not Found for url: https://api.lufthansa.com/v1/mds-references/aircraft?offset=400&limit=100\n",
      "Total aircraft retrieved: 383\n",
      "données des avions ont été enregistrées dans data/json/aircrafts.json\n",
      "données des avions ont été mises à jour dans data/csv/aircrafts.csv\n"
     ]
    }
   ],
   "source": [
    "import requests\n",
    "import json\n",
    "import csv\n",
    "from datetime import datetime\n",
    "from auth import get_access_token\n",
    "\n",
    "# Constantes et fichiers de configuration\n",
    "API_URL = \"https://api.lufthansa.com/v1/mds-references/aircraft\"\n",
    "JSON_OUTPUT_FILE = \"data/json/aircrafts.json\"\n",
    "CSV_OUTPUT_FILE = \"data/csv/aircrafts.csv\"\n",
    "OFFSET = 0\n",
    "LIMIT = 100\n",
    "\n",
    "def fetch_data(api_url, headers, offset, limit):\n",
    "    \"\"\"Fetches data from the given API URL with provided headers.\"\"\"\n",
    "    url = f\"{api_url}?offset={offset}&limit={limit}\"\n",
    "    try:\n",
    "        response = requests.get(url, headers=headers)\n",
    "        response.raise_for_status()\n",
    "        return response.json()\n",
    "    except requests.exceptions.HTTPError as http_err:\n",
    "        print(f\"HTTP error occurred: {http_err}\")\n",
    "    except requests.exceptions.RequestException as req_err:\n",
    "        print(f\"Request error occurred: {req_err}\")\n",
    "    return None\n",
    "\n",
    "\n",
    "def main():\n",
    "    \"\"\"Main function to execute the script.\"\"\"\n",
    "    access_token = get_access_token(CLIENT_ID, CLIENT_SECRET)\n",
    "    if not access_token:\n",
    "        print(\"Échec de l'obtention du token d'accès.\")\n",
    "        return\n",
    "\n",
    "    headers = {\n",
    "        'Authorization': f'Bearer {access_token}',\n",
    "        'Accept': 'application/json'\n",
    "    }\n",
    "\n",
    "    print(\"Fetching aircraft data...\")\n",
    "    all_aircraft = []\n",
    "    offset = OFFSET\n",
    "\n",
    "    while True:\n",
    "        data = fetch_data(API_URL, headers, offset, LIMIT)\n",
    "        if data and 'AircraftResource' in data and 'AircraftSummaries' in data['AircraftResource']:\n",
    "            aircraft_list = data['AircraftResource']['AircraftSummaries']['AircraftSummary']\n",
    "            if not aircraft_list:\n",
    "                break\n",
    "            all_aircraft.extend(aircraft_list)\n",
    "            offset += LIMIT\n",
    "        else:\n",
    "            break\n",
    "\n",
    "    print(f\"Total aircraft retrieved: {len(all_aircraft)}\")\n",
    "    save_json_to_file(all_aircraft, JSON_OUTPUT_FILE, \"données des avions\")\n",
    "    save_to_csv(all_aircraft, CSV_OUTPUT_FILE, \"données des avions\")\n",
    "\n",
    "if __name__ == \"__main__\":\n",
    "    main()"
   ]
  },
  {
   "cell_type": "code",
   "execution_count": null,
   "metadata": {},
   "outputs": [],
   "source": []
  }
 ],
 "metadata": {
  "colab": {
   "provenance": []
  },
  "kernelspec": {
   "display_name": "Python 3 (ipykernel)",
   "language": "python",
   "name": "python3"
  },
  "language_info": {
   "codemirror_mode": {
    "name": "ipython",
    "version": 3
   },
   "file_extension": ".py",
   "mimetype": "text/x-python",
   "name": "python",
   "nbconvert_exporter": "python",
   "pygments_lexer": "ipython3",
   "version": "3.9.2"
  }
 },
 "nbformat": 4,
 "nbformat_minor": 4
}
