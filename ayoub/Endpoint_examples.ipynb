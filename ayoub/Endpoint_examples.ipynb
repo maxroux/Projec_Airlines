{
 "cells": [
  {
   "cell_type": "code",
   "execution_count": null,
   "id": "6b55b583",
   "metadata": {},
   "outputs": [],
   "source": [
    "import requests\n",
    "import json\n",
    "\n",
    "# Informations du client\n",
    "client_id = 'm7eccvja28j882ndzn4h46fuh'\n",
    "client_secret = 'nu228RpY9M'\n",
    "\n",
    "# Obtenir le jeton d'accès\n",
    "url_token = \"https://api.lufthansa.com/v1/oauth/token\"\n",
    "headers_token = {\n",
    "    'Content-Type': 'application/x-www-form-urlencoded'\n",
    "}\n",
    "data_token = {\n",
    "    'client_id': client_id,\n",
    "    'client_secret': client_secret,\n",
    "    'grant_type': 'client_credentials'\n",
    "}\n",
    "\n",
    "response_token = requests.post(url_token, headers=headers_token, data=data_token)\n",
    "if response_token.status_code == 200:\n",
    "    token_info = response_token.json()\n",
    "    access_token = token_info['access_token']\n",
    "    print(f\"Access Token: {access_token}\")\n",
    "else:\n",
    "    raise Exception(f\"Failed to get access token: {response_token.status_code} {response_token.text}\")\n",
    "\n",
    "# Headers communs pour les requêtes\n",
    "headers_common = {\n",
    "    'Authorization': f'Bearer {access_token}',\n",
    "    'Accept': 'application/json'\n",
    "}"
   ]
  },
  {
   "cell_type": "code",
   "execution_count": null,
   "id": "c3278891",
   "metadata": {},
   "outputs": [],
   "source": [
    "# Informations du vol\n",
    "flight_number = 'QR703'\n",
    "date = '2024-06-10' \n",
    "\n",
    "# Endpoint Flight Status\n",
    "url_flight_status = f\"https://api.lufthansa.com/v1/operations/flightstatus/{flight_number}/{date}\"\n",
    "response_flight_status = requests.get(url_flight_status, headers=headers_common)\n",
    "flight_status_info = response_flight_status.json()\n",
    "flight_status_info = json.dumps(flight_status_info, indent=4, sort_keys=True)\n",
    "print(\"Flight Status Information:\")\n",
    "print(flight_status_info)\n"
   ]
  },
  {
   "cell_type": "code",
   "execution_count": null,
   "id": "edcbf255",
   "metadata": {},
   "outputs": [],
   "source": [
    "# Endpoint Schedules\n",
    "origin = 'FRA'\n",
    "destination = 'JFK'\n",
    "fromDateTime = '2024-06-10T00:00'\n",
    "\n",
    "url_schedules = f\"https://api.lufthansa.com/v1/operations/schedules/{origin}/{destination}/{fromDateTime}\"\n",
    "response_schedules = requests.get(url_schedules, headers=headers_common)\n",
    "schedules_info = response_schedules.json()\n",
    "schedules_info = json.dumps(schedules_info, indent=4, sort_keys=True)\n",
    "print(\"Schedules Information:\")\n",
    "print(schedules_info)"
   ]
  },
  {
   "cell_type": "code",
   "execution_count": null,
   "id": "8772d9cc",
   "metadata": {},
   "outputs": [],
   "source": [
    "# Endpoint Arrivals\n",
    "airport_code = 'JFK'\n",
    "fromDateTime = '2024-06-10T08:00'\n",
    "\n",
    "url_arrivals = f\"https://api.lufthansa.com/v1/operations/flightstatus/arrivals/{airport_code}/{fromDateTime}\"\n",
    "response_arrivals = requests.get(url_arrivals, headers=headers_common)\n",
    "arrivals_info = response_arrivals.json()\n",
    "arrivals_info = json.dumps(arrivals_info, indent=4, sort_keys=True)\n",
    "print(\"Arrivals Information:\")\n",
    "print(arrivals_info)\n"
   ]
  },
  {
   "cell_type": "code",
   "execution_count": null,
   "id": "bfa36d7e",
   "metadata": {},
   "outputs": [],
   "source": [
    "# Endpoint Departures\n",
    "airport_code = 'SCN'\n",
    "fromDateTime = '2024-06-10T08:00'\n",
    "\n",
    "url_departures = F\"https://api.lufthansa.com/v1/operations/flightstatus/departures{airport_code}/{fromDateTime}\"\n",
    "response_departures = requests.get(url_departures, headers=headers_common)\n",
    "departures_info = response_departures.json()\n",
    "departures_info = json.dumps(departures_info, indent=4, sort_keys=True)\n",
    "print(\"Departures Information:\")\n",
    "print(departures_info)\n"
   ]
  },
  {
   "cell_type": "code",
   "execution_count": null,
   "id": "3beb13ca",
   "metadata": {
    "scrolled": true
   },
   "outputs": [],
   "source": [
    "# Customer Flight Information\n",
    "flight_number = 'AV567'\n",
    "date = '2024-06-10' \n",
    "\n",
    "url_customer_flight_info = f\"https://api.lufthansa.com/v1/operations/customerflightinformation/{flight_number}/{date}\"\n",
    "response_customer_flight_info = requests.get(url_customer_flight_info, headers=headers_common)\n",
    "customer_flight_info = response_customer_flight_info.json()\n",
    "customer_flight_info = json.dumps(customer_flight_info, indent=4, sort_keys=True)\n",
    "print(\"Customer Flight Information:\")\n",
    "print(customer_flight_info)\n"
   ]
  }
 ],
 "metadata": {
  "kernelspec": {
   "display_name": "Python 3 (ipykernel)",
   "language": "python",
   "name": "python3"
  },
  "language_info": {
   "codemirror_mode": {
    "name": "ipython",
    "version": 3
   },
   "file_extension": ".py",
   "mimetype": "text/x-python",
   "name": "python",
   "nbconvert_exporter": "python",
   "pygments_lexer": "ipython3",
   "version": "3.11.4"
  }
 },
 "nbformat": 4,
 "nbformat_minor": 5
}
